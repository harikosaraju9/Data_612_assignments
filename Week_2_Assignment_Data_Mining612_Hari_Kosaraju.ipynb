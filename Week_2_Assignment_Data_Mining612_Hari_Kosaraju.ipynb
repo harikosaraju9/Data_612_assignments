{
  "nbformat": 4,
  "nbformat_minor": 0,
  "metadata": {
    "colab": {
      "name": "Week_2_Assignment_Data_Mining612_Hari Kosaraju.ipynb",
      "provenance": [],
      "collapsed_sections": [],
      "authorship_tag": "ABX9TyOqxve55UCOIbgWPOm9/Npv",
      "include_colab_link": true
    },
    "kernelspec": {
      "name": "python3",
      "display_name": "Python 3"
    }
  },
  "cells": [
    {
      "cell_type": "markdown",
      "metadata": {
        "id": "view-in-github",
        "colab_type": "text"
      },
      "source": [
        "<a href=\"https://colab.research.google.com/github/harikosaraju9/Data_612_assignments/blob/main/Week_2_Assignment_Data_Mining612_Hari_Kosaraju.ipynb\" target=\"_parent\"><img src=\"https://colab.research.google.com/assets/colab-badge.svg\" alt=\"Open In Colab\"/></a>"
      ]
    },
    {
      "cell_type": "code",
      "metadata": {
        "id": "S-MYFfmxo-z6"
      },
      "source": [
        "import pandas as pd\n",
        "import numpy as np"
      ],
      "execution_count": null,
      "outputs": []
    },
    {
      "cell_type": "markdown",
      "metadata": {
        "id": "F-gq_awW1qwV"
      },
      "source": [
        "###Read Input file"
      ]
    },
    {
      "cell_type": "code",
      "metadata": {
        "id": "_z-mtSXFpAzn"
      },
      "source": [
        "df = pd.read_csv(\"State_Drug_Utilization_Data_2010_Hari.csv\")"
      ],
      "execution_count": null,
      "outputs": []
    },
    {
      "cell_type": "code",
      "metadata": {
        "id": "44cdlyLapU9z",
        "outputId": "92165b40-d1ed-46f6-af16-4daf150bc286",
        "colab": {
          "base_uri": "https://localhost:8080/",
          "height": 360
        }
      },
      "source": [
        "df.head()"
      ],
      "execution_count": null,
      "outputs": [
        {
          "output_type": "execute_result",
          "data": {
            "text/html": [
              "<div>\n",
              "<style scoped>\n",
              "    .dataframe tbody tr th:only-of-type {\n",
              "        vertical-align: middle;\n",
              "    }\n",
              "\n",
              "    .dataframe tbody tr th {\n",
              "        vertical-align: top;\n",
              "    }\n",
              "\n",
              "    .dataframe thead th {\n",
              "        text-align: right;\n",
              "    }\n",
              "</style>\n",
              "<table border=\"1\" class=\"dataframe\">\n",
              "  <thead>\n",
              "    <tr style=\"text-align: right;\">\n",
              "      <th></th>\n",
              "      <th>Unnamed: 0</th>\n",
              "      <th>Utilization Type</th>\n",
              "      <th>State</th>\n",
              "      <th>Labeler Code</th>\n",
              "      <th>Product Code</th>\n",
              "      <th>Package Size</th>\n",
              "      <th>Year</th>\n",
              "      <th>Quarter</th>\n",
              "      <th>Product Name</th>\n",
              "      <th>Units Reimbursed</th>\n",
              "      <th>Suppression Used</th>\n",
              "      <th>Number of Prescriptions</th>\n",
              "      <th>Total Amount Reimbursed</th>\n",
              "      <th>Medicaid Amount Reimbursed</th>\n",
              "      <th>Non Medicaid Amount Reimbursed</th>\n",
              "      <th>Quarter Begin</th>\n",
              "      <th>Quarter Begin Date</th>\n",
              "      <th>Latitude</th>\n",
              "      <th>Longitude</th>\n",
              "      <th>Location</th>\n",
              "      <th>NDC</th>\n",
              "    </tr>\n",
              "  </thead>\n",
              "  <tbody>\n",
              "    <tr>\n",
              "      <th>0</th>\n",
              "      <td>128037</td>\n",
              "      <td>FFSU</td>\n",
              "      <td>PA</td>\n",
              "      <td>50458</td>\n",
              "      <td>551</td>\n",
              "      <td>1</td>\n",
              "      <td>2010</td>\n",
              "      <td>2</td>\n",
              "      <td>INVEGA ER</td>\n",
              "      <td>2834.0</td>\n",
              "      <td>False</td>\n",
              "      <td>83.0</td>\n",
              "      <td>35857.15</td>\n",
              "      <td>28008.80</td>\n",
              "      <td>7848.35</td>\n",
              "      <td>4/1</td>\n",
              "      <td>04/01/2010</td>\n",
              "      <td>35.5376</td>\n",
              "      <td>-96.9247</td>\n",
              "      <td>(35.5376, -96.9247)</td>\n",
              "      <td>50458055101</td>\n",
              "    </tr>\n",
              "    <tr>\n",
              "      <th>1</th>\n",
              "      <td>491755</td>\n",
              "      <td>FFSU</td>\n",
              "      <td>IN</td>\n",
              "      <td>378</td>\n",
              "      <td>2610</td>\n",
              "      <td>10</td>\n",
              "      <td>2010</td>\n",
              "      <td>2</td>\n",
              "      <td>AMITRIPTYL</td>\n",
              "      <td>520.0</td>\n",
              "      <td>False</td>\n",
              "      <td>16.0</td>\n",
              "      <td>80.36</td>\n",
              "      <td>68.36</td>\n",
              "      <td>12.00</td>\n",
              "      <td>4/1</td>\n",
              "      <td>04/01/2010</td>\n",
              "      <td>40.3363</td>\n",
              "      <td>-89.0022</td>\n",
              "      <td>(40.3363, -89.0022)</td>\n",
              "      <td>378261010</td>\n",
              "    </tr>\n",
              "    <tr>\n",
              "      <th>2</th>\n",
              "      <td>2568076</td>\n",
              "      <td>FFSU</td>\n",
              "      <td>SD</td>\n",
              "      <td>50242</td>\n",
              "      <td>62</td>\n",
              "      <td>1</td>\n",
              "      <td>2010</td>\n",
              "      <td>2</td>\n",
              "      <td>TARCEVA 25</td>\n",
              "      <td>NaN</td>\n",
              "      <td>True</td>\n",
              "      <td>NaN</td>\n",
              "      <td>NaN</td>\n",
              "      <td>NaN</td>\n",
              "      <td>NaN</td>\n",
              "      <td>4/1</td>\n",
              "      <td>04/01/2010</td>\n",
              "      <td>18.2766</td>\n",
              "      <td>-66.3350</td>\n",
              "      <td>(18.2766, -66.335)</td>\n",
              "      <td>50242006201</td>\n",
              "    </tr>\n",
              "    <tr>\n",
              "      <th>3</th>\n",
              "      <td>491263</td>\n",
              "      <td>FFSU</td>\n",
              "      <td>WY</td>\n",
              "      <td>93</td>\n",
              "      <td>7382</td>\n",
              "      <td>1</td>\n",
              "      <td>2010</td>\n",
              "      <td>3</td>\n",
              "      <td>VENLAFAXIN</td>\n",
              "      <td>1326.0</td>\n",
              "      <td>False</td>\n",
              "      <td>22.0</td>\n",
              "      <td>724.24</td>\n",
              "      <td>724.24</td>\n",
              "      <td>0.00</td>\n",
              "      <td>7/1</td>\n",
              "      <td>07/01/2010</td>\n",
              "      <td>44.0407</td>\n",
              "      <td>-72.7093</td>\n",
              "      <td>(44.0407, -72.7093)</td>\n",
              "      <td>93738201</td>\n",
              "    </tr>\n",
              "    <tr>\n",
              "      <th>4</th>\n",
              "      <td>836489</td>\n",
              "      <td>MCOU</td>\n",
              "      <td>MN</td>\n",
              "      <td>904</td>\n",
              "      <td>1983</td>\n",
              "      <td>59</td>\n",
              "      <td>2010</td>\n",
              "      <td>1</td>\n",
              "      <td>MAPAP</td>\n",
              "      <td>52394.0</td>\n",
              "      <td>False</td>\n",
              "      <td>478.0</td>\n",
              "      <td>3085.14</td>\n",
              "      <td>3068.14</td>\n",
              "      <td>17.00</td>\n",
              "      <td>1/1</td>\n",
              "      <td>01/01/2010</td>\n",
              "      <td>43.3504</td>\n",
              "      <td>-84.5603</td>\n",
              "      <td>(43.3504, -84.5603)</td>\n",
              "      <td>904198359</td>\n",
              "    </tr>\n",
              "  </tbody>\n",
              "</table>\n",
              "</div>"
            ],
            "text/plain": [
              "   Unnamed: 0 Utilization Type  ...             Location          NDC\n",
              "0      128037             FFSU  ...  (35.5376, -96.9247)  50458055101\n",
              "1      491755             FFSU  ...  (40.3363, -89.0022)    378261010\n",
              "2     2568076             FFSU  ...   (18.2766, -66.335)  50242006201\n",
              "3      491263             FFSU  ...  (44.0407, -72.7093)     93738201\n",
              "4      836489             MCOU  ...  (43.3504, -84.5603)    904198359\n",
              "\n",
              "[5 rows x 21 columns]"
            ]
          },
          "metadata": {
            "tags": []
          },
          "execution_count": 3
        }
      ]
    },
    {
      "cell_type": "markdown",
      "metadata": {
        "id": "itDDn-_41wNW"
      },
      "source": [
        "###Input dataset information"
      ]
    },
    {
      "cell_type": "code",
      "metadata": {
        "id": "YeFNvUgIpX11",
        "outputId": "de73b978-88d5-4b5f-b3ff-092f1bee4562",
        "colab": {
          "base_uri": "https://localhost:8080/",
          "height": 510
        }
      },
      "source": [
        "df.info()"
      ],
      "execution_count": null,
      "outputs": [
        {
          "output_type": "stream",
          "text": [
            "<class 'pandas.core.frame.DataFrame'>\n",
            "RangeIndex: 156219 entries, 0 to 156218\n",
            "Data columns (total 21 columns):\n",
            " #   Column                          Non-Null Count   Dtype  \n",
            "---  ------                          --------------   -----  \n",
            " 0   Unnamed: 0                      156219 non-null  int64  \n",
            " 1   Utilization Type                156219 non-null  object \n",
            " 2   State                           156219 non-null  object \n",
            " 3   Labeler Code                    156219 non-null  int64  \n",
            " 4   Product Code                    156219 non-null  int64  \n",
            " 5   Package Size                    156219 non-null  int64  \n",
            " 6   Year                            156219 non-null  int64  \n",
            " 7   Quarter                         156219 non-null  int64  \n",
            " 8   Product Name                    156192 non-null  object \n",
            " 9   Units Reimbursed                77002 non-null   float64\n",
            " 10  Suppression Used                156219 non-null  bool   \n",
            " 11  Number of Prescriptions         77002 non-null   float64\n",
            " 12  Total Amount Reimbursed         77002 non-null   float64\n",
            " 13  Medicaid Amount Reimbursed      77002 non-null   float64\n",
            " 14  Non Medicaid Amount Reimbursed  77002 non-null   float64\n",
            " 15  Quarter Begin                   156219 non-null  object \n",
            " 16  Quarter Begin Date              156219 non-null  object \n",
            " 17  Latitude                        145178 non-null  float64\n",
            " 18  Longitude                       145178 non-null  float64\n",
            " 19  Location                        145178 non-null  object \n",
            " 20  NDC                             156219 non-null  int64  \n",
            "dtypes: bool(1), float64(7), int64(7), object(6)\n",
            "memory usage: 24.0+ MB\n"
          ],
          "name": "stdout"
        }
      ]
    },
    {
      "cell_type": "markdown",
      "metadata": {
        "id": "pxZiHbAR145x"
      },
      "source": [
        "###Finding Max date from the colum 'Quarter Begin Date'."
      ]
    },
    {
      "cell_type": "code",
      "metadata": {
        "id": "kfhAlL_cprJm",
        "outputId": "42bbce91-b288-45c6-f26d-15906ed0759c",
        "colab": {
          "base_uri": "https://localhost:8080/",
          "height": 35
        }
      },
      "source": [
        "df[\"Quarter Begin Date\"].max()"
      ],
      "execution_count": null,
      "outputs": [
        {
          "output_type": "execute_result",
          "data": {
            "application/vnd.google.colaboratory.intrinsic+json": {
              "type": "string"
            },
            "text/plain": [
              "'10/01/2010'"
            ]
          },
          "metadata": {
            "tags": []
          },
          "execution_count": 7
        }
      ]
    },
    {
      "cell_type": "code",
      "metadata": {
        "id": "fwmeQ6udp3cF",
        "outputId": "cae6e8f8-2b0b-4290-8a7e-80a47d7601e2",
        "colab": {
          "base_uri": "https://localhost:8080/",
          "height": 35
        }
      },
      "source": [
        "df[\"Quarter Begin Date\"].min()"
      ],
      "execution_count": null,
      "outputs": [
        {
          "output_type": "execute_result",
          "data": {
            "application/vnd.google.colaboratory.intrinsic+json": {
              "type": "string"
            },
            "text/plain": [
              "'01/01/2010'"
            ]
          },
          "metadata": {
            "tags": []
          },
          "execution_count": 8
        }
      ]
    },
    {
      "cell_type": "markdown",
      "metadata": {
        "id": "QpwJx59z2DiB"
      },
      "source": [
        "###Convert 'Quarter Begin Date' which is type 'object' to datetimestamp type. and save it to new column 'date_dt'."
      ]
    },
    {
      "cell_type": "code",
      "metadata": {
        "id": "447KixMgqn1F"
      },
      "source": [
        "df['date_dt'] = pd.to_datetime(df['Quarter Begin Date'])"
      ],
      "execution_count": null,
      "outputs": []
    },
    {
      "cell_type": "code",
      "metadata": {
        "id": "YUdfcaTjrXIb",
        "outputId": "acae4cd7-1b06-47c4-8284-9fb38d0a6e89",
        "colab": {
          "base_uri": "https://localhost:8080/",
          "height": 527
        }
      },
      "source": [
        "df.info()"
      ],
      "execution_count": null,
      "outputs": [
        {
          "output_type": "stream",
          "text": [
            "<class 'pandas.core.frame.DataFrame'>\n",
            "RangeIndex: 156219 entries, 0 to 156218\n",
            "Data columns (total 22 columns):\n",
            " #   Column                          Non-Null Count   Dtype         \n",
            "---  ------                          --------------   -----         \n",
            " 0   Unnamed: 0                      156219 non-null  int64         \n",
            " 1   Utilization Type                156219 non-null  object        \n",
            " 2   State                           156219 non-null  object        \n",
            " 3   Labeler Code                    156219 non-null  int64         \n",
            " 4   Product Code                    156219 non-null  int64         \n",
            " 5   Package Size                    156219 non-null  int64         \n",
            " 6   Year                            156219 non-null  int64         \n",
            " 7   Quarter                         156219 non-null  int64         \n",
            " 8   Product Name                    156192 non-null  object        \n",
            " 9   Units Reimbursed                77002 non-null   float64       \n",
            " 10  Suppression Used                156219 non-null  bool          \n",
            " 11  Number of Prescriptions         77002 non-null   float64       \n",
            " 12  Total Amount Reimbursed         77002 non-null   float64       \n",
            " 13  Medicaid Amount Reimbursed      77002 non-null   float64       \n",
            " 14  Non Medicaid Amount Reimbursed  77002 non-null   float64       \n",
            " 15  Quarter Begin                   156219 non-null  object        \n",
            " 16  Quarter Begin Date              156219 non-null  object        \n",
            " 17  Latitude                        145178 non-null  float64       \n",
            " 18  Longitude                       145178 non-null  float64       \n",
            " 19  Location                        145178 non-null  object        \n",
            " 20  NDC                             156219 non-null  int64         \n",
            " 21  date_dt                         156219 non-null  datetime64[ns]\n",
            "dtypes: bool(1), datetime64[ns](1), float64(7), int64(7), object(6)\n",
            "memory usage: 25.2+ MB\n"
          ],
          "name": "stdout"
        }
      ]
    },
    {
      "cell_type": "code",
      "metadata": {
        "id": "V73uc6x2rbcj",
        "outputId": "c898a76d-6566-4a7b-c81a-ff7dd872ff33",
        "colab": {
          "base_uri": "https://localhost:8080/",
          "height": 360
        }
      },
      "source": [
        "df.head()"
      ],
      "execution_count": null,
      "outputs": [
        {
          "output_type": "execute_result",
          "data": {
            "text/html": [
              "<div>\n",
              "<style scoped>\n",
              "    .dataframe tbody tr th:only-of-type {\n",
              "        vertical-align: middle;\n",
              "    }\n",
              "\n",
              "    .dataframe tbody tr th {\n",
              "        vertical-align: top;\n",
              "    }\n",
              "\n",
              "    .dataframe thead th {\n",
              "        text-align: right;\n",
              "    }\n",
              "</style>\n",
              "<table border=\"1\" class=\"dataframe\">\n",
              "  <thead>\n",
              "    <tr style=\"text-align: right;\">\n",
              "      <th></th>\n",
              "      <th>Unnamed: 0</th>\n",
              "      <th>Utilization Type</th>\n",
              "      <th>State</th>\n",
              "      <th>Labeler Code</th>\n",
              "      <th>Product Code</th>\n",
              "      <th>Package Size</th>\n",
              "      <th>Year</th>\n",
              "      <th>Quarter</th>\n",
              "      <th>Product Name</th>\n",
              "      <th>Units Reimbursed</th>\n",
              "      <th>Suppression Used</th>\n",
              "      <th>Number of Prescriptions</th>\n",
              "      <th>Total Amount Reimbursed</th>\n",
              "      <th>Medicaid Amount Reimbursed</th>\n",
              "      <th>Non Medicaid Amount Reimbursed</th>\n",
              "      <th>Quarter Begin</th>\n",
              "      <th>Quarter Begin Date</th>\n",
              "      <th>Latitude</th>\n",
              "      <th>Longitude</th>\n",
              "      <th>Location</th>\n",
              "      <th>NDC</th>\n",
              "      <th>date_dt</th>\n",
              "    </tr>\n",
              "  </thead>\n",
              "  <tbody>\n",
              "    <tr>\n",
              "      <th>0</th>\n",
              "      <td>128037</td>\n",
              "      <td>FFSU</td>\n",
              "      <td>PA</td>\n",
              "      <td>50458</td>\n",
              "      <td>551</td>\n",
              "      <td>1</td>\n",
              "      <td>2010</td>\n",
              "      <td>2</td>\n",
              "      <td>INVEGA ER</td>\n",
              "      <td>2834.0</td>\n",
              "      <td>False</td>\n",
              "      <td>83.0</td>\n",
              "      <td>35857.15</td>\n",
              "      <td>28008.80</td>\n",
              "      <td>7848.35</td>\n",
              "      <td>4/1</td>\n",
              "      <td>04/01/2010</td>\n",
              "      <td>35.5376</td>\n",
              "      <td>-96.9247</td>\n",
              "      <td>(35.5376, -96.9247)</td>\n",
              "      <td>50458055101</td>\n",
              "      <td>2010-04-01</td>\n",
              "    </tr>\n",
              "    <tr>\n",
              "      <th>1</th>\n",
              "      <td>491755</td>\n",
              "      <td>FFSU</td>\n",
              "      <td>IN</td>\n",
              "      <td>378</td>\n",
              "      <td>2610</td>\n",
              "      <td>10</td>\n",
              "      <td>2010</td>\n",
              "      <td>2</td>\n",
              "      <td>AMITRIPTYL</td>\n",
              "      <td>520.0</td>\n",
              "      <td>False</td>\n",
              "      <td>16.0</td>\n",
              "      <td>80.36</td>\n",
              "      <td>68.36</td>\n",
              "      <td>12.00</td>\n",
              "      <td>4/1</td>\n",
              "      <td>04/01/2010</td>\n",
              "      <td>40.3363</td>\n",
              "      <td>-89.0022</td>\n",
              "      <td>(40.3363, -89.0022)</td>\n",
              "      <td>378261010</td>\n",
              "      <td>2010-04-01</td>\n",
              "    </tr>\n",
              "    <tr>\n",
              "      <th>2</th>\n",
              "      <td>2568076</td>\n",
              "      <td>FFSU</td>\n",
              "      <td>SD</td>\n",
              "      <td>50242</td>\n",
              "      <td>62</td>\n",
              "      <td>1</td>\n",
              "      <td>2010</td>\n",
              "      <td>2</td>\n",
              "      <td>TARCEVA 25</td>\n",
              "      <td>NaN</td>\n",
              "      <td>True</td>\n",
              "      <td>NaN</td>\n",
              "      <td>NaN</td>\n",
              "      <td>NaN</td>\n",
              "      <td>NaN</td>\n",
              "      <td>4/1</td>\n",
              "      <td>04/01/2010</td>\n",
              "      <td>18.2766</td>\n",
              "      <td>-66.3350</td>\n",
              "      <td>(18.2766, -66.335)</td>\n",
              "      <td>50242006201</td>\n",
              "      <td>2010-04-01</td>\n",
              "    </tr>\n",
              "    <tr>\n",
              "      <th>3</th>\n",
              "      <td>491263</td>\n",
              "      <td>FFSU</td>\n",
              "      <td>WY</td>\n",
              "      <td>93</td>\n",
              "      <td>7382</td>\n",
              "      <td>1</td>\n",
              "      <td>2010</td>\n",
              "      <td>3</td>\n",
              "      <td>VENLAFAXIN</td>\n",
              "      <td>1326.0</td>\n",
              "      <td>False</td>\n",
              "      <td>22.0</td>\n",
              "      <td>724.24</td>\n",
              "      <td>724.24</td>\n",
              "      <td>0.00</td>\n",
              "      <td>7/1</td>\n",
              "      <td>07/01/2010</td>\n",
              "      <td>44.0407</td>\n",
              "      <td>-72.7093</td>\n",
              "      <td>(44.0407, -72.7093)</td>\n",
              "      <td>93738201</td>\n",
              "      <td>2010-07-01</td>\n",
              "    </tr>\n",
              "    <tr>\n",
              "      <th>4</th>\n",
              "      <td>836489</td>\n",
              "      <td>MCOU</td>\n",
              "      <td>MN</td>\n",
              "      <td>904</td>\n",
              "      <td>1983</td>\n",
              "      <td>59</td>\n",
              "      <td>2010</td>\n",
              "      <td>1</td>\n",
              "      <td>MAPAP</td>\n",
              "      <td>52394.0</td>\n",
              "      <td>False</td>\n",
              "      <td>478.0</td>\n",
              "      <td>3085.14</td>\n",
              "      <td>3068.14</td>\n",
              "      <td>17.00</td>\n",
              "      <td>1/1</td>\n",
              "      <td>01/01/2010</td>\n",
              "      <td>43.3504</td>\n",
              "      <td>-84.5603</td>\n",
              "      <td>(43.3504, -84.5603)</td>\n",
              "      <td>904198359</td>\n",
              "      <td>2010-01-01</td>\n",
              "    </tr>\n",
              "  </tbody>\n",
              "</table>\n",
              "</div>"
            ],
            "text/plain": [
              "   Unnamed: 0 Utilization Type  ...          NDC    date_dt\n",
              "0      128037             FFSU  ...  50458055101 2010-04-01\n",
              "1      491755             FFSU  ...    378261010 2010-04-01\n",
              "2     2568076             FFSU  ...  50242006201 2010-04-01\n",
              "3      491263             FFSU  ...     93738201 2010-07-01\n",
              "4      836489             MCOU  ...    904198359 2010-01-01\n",
              "\n",
              "[5 rows x 22 columns]"
            ]
          },
          "metadata": {
            "tags": []
          },
          "execution_count": 14
        }
      ]
    },
    {
      "cell_type": "code",
      "metadata": {
        "id": "LlHnDOlBrdT0",
        "outputId": "50086900-4c3f-40f7-a811-47c6b7f288ee",
        "colab": {
          "base_uri": "https://localhost:8080/",
          "height": 35
        }
      },
      "source": [
        "df[\"date_dt\"].max()"
      ],
      "execution_count": null,
      "outputs": [
        {
          "output_type": "execute_result",
          "data": {
            "text/plain": [
              "Timestamp('2010-10-01 00:00:00')"
            ]
          },
          "metadata": {
            "tags": []
          },
          "execution_count": 15
        }
      ]
    },
    {
      "cell_type": "code",
      "metadata": {
        "id": "ZamTvWi1rnuc",
        "outputId": "f2ffa948-7ceb-468e-9408-8782ed3795f4",
        "colab": {
          "base_uri": "https://localhost:8080/",
          "height": 35
        }
      },
      "source": [
        "df[\"date_dt\"].min()"
      ],
      "execution_count": null,
      "outputs": [
        {
          "output_type": "execute_result",
          "data": {
            "text/plain": [
              "Timestamp('2010-01-01 00:00:00')"
            ]
          },
          "metadata": {
            "tags": []
          },
          "execution_count": 16
        }
      ]
    },
    {
      "cell_type": "markdown",
      "metadata": {
        "id": "dCknRS4Z2dkp"
      },
      "source": [
        "###Get number of days by subtracting each date in the column 'Quarter Begin Date' from max date in the column"
      ]
    },
    {
      "cell_type": "code",
      "metadata": {
        "id": "maDlUtVUrt80"
      },
      "source": [
        "y =df[\"date_dt\"].max() - df[\"date_dt\"]"
      ],
      "execution_count": null,
      "outputs": []
    },
    {
      "cell_type": "code",
      "metadata": {
        "id": "CeaROFlyr-vd",
        "outputId": "1c4f552e-0c59-405f-f34c-a99d49c7a6d5",
        "colab": {
          "base_uri": "https://localhost:8080/",
          "height": 123
        }
      },
      "source": [
        "y.head()"
      ],
      "execution_count": null,
      "outputs": [
        {
          "output_type": "execute_result",
          "data": {
            "text/plain": [
              "0   183 days\n",
              "1   183 days\n",
              "2   183 days\n",
              "3    92 days\n",
              "4   273 days\n",
              "Name: date_dt, dtype: timedelta64[ns]"
            ]
          },
          "metadata": {
            "tags": []
          },
          "execution_count": 18
        }
      ]
    },
    {
      "cell_type": "markdown",
      "metadata": {
        "id": "7OZRHIyq3fpO"
      },
      "source": [
        "###Convert number of days to months "
      ]
    },
    {
      "cell_type": "code",
      "metadata": {
        "id": "KHYnWp4TzGlR"
      },
      "source": [
        "df['months'] = ((df[\"date_dt\"].max() - df[\"date_dt\"])/np.timedelta64(1, 'M'))"
      ],
      "execution_count": null,
      "outputs": []
    },
    {
      "cell_type": "code",
      "metadata": {
        "id": "xuLb61N1077P"
      },
      "source": [
        "df['months'] = df['months'].astype(int)"
      ],
      "execution_count": null,
      "outputs": []
    },
    {
      "cell_type": "code",
      "metadata": {
        "id": "-TxH1K7T1CeS",
        "outputId": "0d56d16f-7552-4fd3-9544-730d6f95fa61",
        "colab": {
          "base_uri": "https://localhost:8080/",
          "height": 360
        }
      },
      "source": [
        "df.head()"
      ],
      "execution_count": null,
      "outputs": [
        {
          "output_type": "execute_result",
          "data": {
            "text/html": [
              "<div>\n",
              "<style scoped>\n",
              "    .dataframe tbody tr th:only-of-type {\n",
              "        vertical-align: middle;\n",
              "    }\n",
              "\n",
              "    .dataframe tbody tr th {\n",
              "        vertical-align: top;\n",
              "    }\n",
              "\n",
              "    .dataframe thead th {\n",
              "        text-align: right;\n",
              "    }\n",
              "</style>\n",
              "<table border=\"1\" class=\"dataframe\">\n",
              "  <thead>\n",
              "    <tr style=\"text-align: right;\">\n",
              "      <th></th>\n",
              "      <th>Unnamed: 0</th>\n",
              "      <th>Utilization Type</th>\n",
              "      <th>State</th>\n",
              "      <th>Labeler Code</th>\n",
              "      <th>Product Code</th>\n",
              "      <th>Package Size</th>\n",
              "      <th>Year</th>\n",
              "      <th>Quarter</th>\n",
              "      <th>Product Name</th>\n",
              "      <th>Units Reimbursed</th>\n",
              "      <th>Suppression Used</th>\n",
              "      <th>Number of Prescriptions</th>\n",
              "      <th>Total Amount Reimbursed</th>\n",
              "      <th>Medicaid Amount Reimbursed</th>\n",
              "      <th>Non Medicaid Amount Reimbursed</th>\n",
              "      <th>Quarter Begin</th>\n",
              "      <th>Quarter Begin Date</th>\n",
              "      <th>Latitude</th>\n",
              "      <th>Longitude</th>\n",
              "      <th>Location</th>\n",
              "      <th>NDC</th>\n",
              "      <th>date_dt</th>\n",
              "      <th>months</th>\n",
              "    </tr>\n",
              "  </thead>\n",
              "  <tbody>\n",
              "    <tr>\n",
              "      <th>0</th>\n",
              "      <td>128037</td>\n",
              "      <td>FFSU</td>\n",
              "      <td>PA</td>\n",
              "      <td>50458</td>\n",
              "      <td>551</td>\n",
              "      <td>1</td>\n",
              "      <td>2010</td>\n",
              "      <td>2</td>\n",
              "      <td>INVEGA ER</td>\n",
              "      <td>2834.0</td>\n",
              "      <td>False</td>\n",
              "      <td>83.0</td>\n",
              "      <td>35857.15</td>\n",
              "      <td>28008.80</td>\n",
              "      <td>7848.35</td>\n",
              "      <td>4/1</td>\n",
              "      <td>04/01/2010</td>\n",
              "      <td>35.5376</td>\n",
              "      <td>-96.9247</td>\n",
              "      <td>(35.5376, -96.9247)</td>\n",
              "      <td>50458055101</td>\n",
              "      <td>2010-04-01</td>\n",
              "      <td>6</td>\n",
              "    </tr>\n",
              "    <tr>\n",
              "      <th>1</th>\n",
              "      <td>491755</td>\n",
              "      <td>FFSU</td>\n",
              "      <td>IN</td>\n",
              "      <td>378</td>\n",
              "      <td>2610</td>\n",
              "      <td>10</td>\n",
              "      <td>2010</td>\n",
              "      <td>2</td>\n",
              "      <td>AMITRIPTYL</td>\n",
              "      <td>520.0</td>\n",
              "      <td>False</td>\n",
              "      <td>16.0</td>\n",
              "      <td>80.36</td>\n",
              "      <td>68.36</td>\n",
              "      <td>12.00</td>\n",
              "      <td>4/1</td>\n",
              "      <td>04/01/2010</td>\n",
              "      <td>40.3363</td>\n",
              "      <td>-89.0022</td>\n",
              "      <td>(40.3363, -89.0022)</td>\n",
              "      <td>378261010</td>\n",
              "      <td>2010-04-01</td>\n",
              "      <td>6</td>\n",
              "    </tr>\n",
              "    <tr>\n",
              "      <th>2</th>\n",
              "      <td>2568076</td>\n",
              "      <td>FFSU</td>\n",
              "      <td>SD</td>\n",
              "      <td>50242</td>\n",
              "      <td>62</td>\n",
              "      <td>1</td>\n",
              "      <td>2010</td>\n",
              "      <td>2</td>\n",
              "      <td>TARCEVA 25</td>\n",
              "      <td>NaN</td>\n",
              "      <td>True</td>\n",
              "      <td>NaN</td>\n",
              "      <td>NaN</td>\n",
              "      <td>NaN</td>\n",
              "      <td>NaN</td>\n",
              "      <td>4/1</td>\n",
              "      <td>04/01/2010</td>\n",
              "      <td>18.2766</td>\n",
              "      <td>-66.3350</td>\n",
              "      <td>(18.2766, -66.335)</td>\n",
              "      <td>50242006201</td>\n",
              "      <td>2010-04-01</td>\n",
              "      <td>6</td>\n",
              "    </tr>\n",
              "    <tr>\n",
              "      <th>3</th>\n",
              "      <td>491263</td>\n",
              "      <td>FFSU</td>\n",
              "      <td>WY</td>\n",
              "      <td>93</td>\n",
              "      <td>7382</td>\n",
              "      <td>1</td>\n",
              "      <td>2010</td>\n",
              "      <td>3</td>\n",
              "      <td>VENLAFAXIN</td>\n",
              "      <td>1326.0</td>\n",
              "      <td>False</td>\n",
              "      <td>22.0</td>\n",
              "      <td>724.24</td>\n",
              "      <td>724.24</td>\n",
              "      <td>0.00</td>\n",
              "      <td>7/1</td>\n",
              "      <td>07/01/2010</td>\n",
              "      <td>44.0407</td>\n",
              "      <td>-72.7093</td>\n",
              "      <td>(44.0407, -72.7093)</td>\n",
              "      <td>93738201</td>\n",
              "      <td>2010-07-01</td>\n",
              "      <td>3</td>\n",
              "    </tr>\n",
              "    <tr>\n",
              "      <th>4</th>\n",
              "      <td>836489</td>\n",
              "      <td>MCOU</td>\n",
              "      <td>MN</td>\n",
              "      <td>904</td>\n",
              "      <td>1983</td>\n",
              "      <td>59</td>\n",
              "      <td>2010</td>\n",
              "      <td>1</td>\n",
              "      <td>MAPAP</td>\n",
              "      <td>52394.0</td>\n",
              "      <td>False</td>\n",
              "      <td>478.0</td>\n",
              "      <td>3085.14</td>\n",
              "      <td>3068.14</td>\n",
              "      <td>17.00</td>\n",
              "      <td>1/1</td>\n",
              "      <td>01/01/2010</td>\n",
              "      <td>43.3504</td>\n",
              "      <td>-84.5603</td>\n",
              "      <td>(43.3504, -84.5603)</td>\n",
              "      <td>904198359</td>\n",
              "      <td>2010-01-01</td>\n",
              "      <td>8</td>\n",
              "    </tr>\n",
              "  </tbody>\n",
              "</table>\n",
              "</div>"
            ],
            "text/plain": [
              "   Unnamed: 0 Utilization Type State  ...          NDC    date_dt  months\n",
              "0      128037             FFSU    PA  ...  50458055101 2010-04-01       6\n",
              "1      491755             FFSU    IN  ...    378261010 2010-04-01       6\n",
              "2     2568076             FFSU    SD  ...  50242006201 2010-04-01       6\n",
              "3      491263             FFSU    WY  ...     93738201 2010-07-01       3\n",
              "4      836489             MCOU    MN  ...    904198359 2010-01-01       8\n",
              "\n",
              "[5 rows x 23 columns]"
            ]
          },
          "metadata": {
            "tags": []
          },
          "execution_count": 28
        }
      ]
    },
    {
      "cell_type": "markdown",
      "metadata": {
        "id": "6BgUThXt3aTY"
      },
      "source": [
        "###Write to a dataset"
      ]
    },
    {
      "cell_type": "code",
      "metadata": {
        "id": "fASqd5aE1Epj"
      },
      "source": [
        "df.to_csv('State_Drug_Utilization_Data_2010_week_2.csv')"
      ],
      "execution_count": null,
      "outputs": []
    },
    {
      "cell_type": "code",
      "metadata": {
        "id": "LAWNUyui3XIa"
      },
      "source": [
        ""
      ],
      "execution_count": null,
      "outputs": []
    }
  ]
}