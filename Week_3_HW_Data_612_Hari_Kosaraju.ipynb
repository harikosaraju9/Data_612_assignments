{
  "nbformat": 4,
  "nbformat_minor": 0,
  "metadata": {
    "colab": {
      "name": "Week_3_HW_Data_612_Hari Kosaraju.ipynb",
      "provenance": [],
      "collapsed_sections": [],
      "authorship_tag": "ABX9TyP1kI3jIOSEOX0NjzuEY5kT",
      "include_colab_link": true
    },
    "kernelspec": {
      "name": "python3",
      "display_name": "Python 3"
    }
  },
  "cells": [
    {
      "cell_type": "markdown",
      "metadata": {
        "id": "view-in-github",
        "colab_type": "text"
      },
      "source": [
        "<a href=\"https://colab.research.google.com/github/harikosaraju9/Data_612_assignments/blob/main/Week_3_HW_Data_612_Hari_Kosaraju.ipynb\" target=\"_parent\"><img src=\"https://colab.research.google.com/assets/colab-badge.svg\" alt=\"Open In Colab\"/></a>"
      ]
    },
    {
      "cell_type": "code",
      "metadata": {
        "id": "S-MYFfmxo-z6"
      },
      "source": [
        "import pandas as pd\n",
        "import numpy as np"
      ],
      "execution_count": 43,
      "outputs": []
    },
    {
      "cell_type": "code",
      "metadata": {
        "id": "_z-mtSXFpAzn"
      },
      "source": [
        "## df= subset of original dataset created by professor and being used for homeworks\n",
        "## df_E_Col = This dataset was created as part of week_2 assignment. New column month was added\n",
        "\n",
        "df       = pd.read_csv(\"State_Drug_Utilization_Data_2010_Hari.csv\", index_col=0)\n",
        "df_E_Col = pd.read_csv(\"State_Drug.csv\")"
      ],
      "execution_count": 44,
      "outputs": []
    },
    {
      "cell_type": "code",
      "metadata": {
        "id": "gfQB9_imfqw2",
        "outputId": "a63872aa-bdf9-4e27-8b6c-612c389b515a",
        "colab": {
          "base_uri": "https://localhost:8080/",
          "height": 360
        }
      },
      "source": [
        "df.head()"
      ],
      "execution_count": 45,
      "outputs": [
        {
          "output_type": "execute_result",
          "data": {
            "text/html": [
              "<div>\n",
              "<style scoped>\n",
              "    .dataframe tbody tr th:only-of-type {\n",
              "        vertical-align: middle;\n",
              "    }\n",
              "\n",
              "    .dataframe tbody tr th {\n",
              "        vertical-align: top;\n",
              "    }\n",
              "\n",
              "    .dataframe thead th {\n",
              "        text-align: right;\n",
              "    }\n",
              "</style>\n",
              "<table border=\"1\" class=\"dataframe\">\n",
              "  <thead>\n",
              "    <tr style=\"text-align: right;\">\n",
              "      <th></th>\n",
              "      <th>Utilization Type</th>\n",
              "      <th>State</th>\n",
              "      <th>Labeler Code</th>\n",
              "      <th>Product Code</th>\n",
              "      <th>Package Size</th>\n",
              "      <th>Year</th>\n",
              "      <th>Quarter</th>\n",
              "      <th>Product Name</th>\n",
              "      <th>Units Reimbursed</th>\n",
              "      <th>Suppression Used</th>\n",
              "      <th>Number of Prescriptions</th>\n",
              "      <th>Total Amount Reimbursed</th>\n",
              "      <th>Medicaid Amount Reimbursed</th>\n",
              "      <th>Non Medicaid Amount Reimbursed</th>\n",
              "      <th>Quarter Begin</th>\n",
              "      <th>Quarter Begin Date</th>\n",
              "      <th>Latitude</th>\n",
              "      <th>Longitude</th>\n",
              "      <th>Location</th>\n",
              "      <th>NDC</th>\n",
              "    </tr>\n",
              "  </thead>\n",
              "  <tbody>\n",
              "    <tr>\n",
              "      <th>128037</th>\n",
              "      <td>FFSU</td>\n",
              "      <td>PA</td>\n",
              "      <td>50458</td>\n",
              "      <td>551</td>\n",
              "      <td>1</td>\n",
              "      <td>2010</td>\n",
              "      <td>2</td>\n",
              "      <td>INVEGA ER</td>\n",
              "      <td>2834.0</td>\n",
              "      <td>False</td>\n",
              "      <td>83.0</td>\n",
              "      <td>35857.15</td>\n",
              "      <td>28008.80</td>\n",
              "      <td>7848.35</td>\n",
              "      <td>4/1</td>\n",
              "      <td>04/01/2010</td>\n",
              "      <td>35.5376</td>\n",
              "      <td>-96.9247</td>\n",
              "      <td>(35.5376, -96.9247)</td>\n",
              "      <td>50458055101</td>\n",
              "    </tr>\n",
              "    <tr>\n",
              "      <th>491755</th>\n",
              "      <td>FFSU</td>\n",
              "      <td>IN</td>\n",
              "      <td>378</td>\n",
              "      <td>2610</td>\n",
              "      <td>10</td>\n",
              "      <td>2010</td>\n",
              "      <td>2</td>\n",
              "      <td>AMITRIPTYL</td>\n",
              "      <td>520.0</td>\n",
              "      <td>False</td>\n",
              "      <td>16.0</td>\n",
              "      <td>80.36</td>\n",
              "      <td>68.36</td>\n",
              "      <td>12.00</td>\n",
              "      <td>4/1</td>\n",
              "      <td>04/01/2010</td>\n",
              "      <td>40.3363</td>\n",
              "      <td>-89.0022</td>\n",
              "      <td>(40.3363, -89.0022)</td>\n",
              "      <td>378261010</td>\n",
              "    </tr>\n",
              "    <tr>\n",
              "      <th>2568076</th>\n",
              "      <td>FFSU</td>\n",
              "      <td>SD</td>\n",
              "      <td>50242</td>\n",
              "      <td>62</td>\n",
              "      <td>1</td>\n",
              "      <td>2010</td>\n",
              "      <td>2</td>\n",
              "      <td>TARCEVA 25</td>\n",
              "      <td>NaN</td>\n",
              "      <td>True</td>\n",
              "      <td>NaN</td>\n",
              "      <td>NaN</td>\n",
              "      <td>NaN</td>\n",
              "      <td>NaN</td>\n",
              "      <td>4/1</td>\n",
              "      <td>04/01/2010</td>\n",
              "      <td>18.2766</td>\n",
              "      <td>-66.3350</td>\n",
              "      <td>(18.2766, -66.335)</td>\n",
              "      <td>50242006201</td>\n",
              "    </tr>\n",
              "    <tr>\n",
              "      <th>491263</th>\n",
              "      <td>FFSU</td>\n",
              "      <td>WY</td>\n",
              "      <td>93</td>\n",
              "      <td>7382</td>\n",
              "      <td>1</td>\n",
              "      <td>2010</td>\n",
              "      <td>3</td>\n",
              "      <td>VENLAFAXIN</td>\n",
              "      <td>1326.0</td>\n",
              "      <td>False</td>\n",
              "      <td>22.0</td>\n",
              "      <td>724.24</td>\n",
              "      <td>724.24</td>\n",
              "      <td>0.00</td>\n",
              "      <td>7/1</td>\n",
              "      <td>07/01/2010</td>\n",
              "      <td>44.0407</td>\n",
              "      <td>-72.7093</td>\n",
              "      <td>(44.0407, -72.7093)</td>\n",
              "      <td>93738201</td>\n",
              "    </tr>\n",
              "    <tr>\n",
              "      <th>836489</th>\n",
              "      <td>MCOU</td>\n",
              "      <td>MN</td>\n",
              "      <td>904</td>\n",
              "      <td>1983</td>\n",
              "      <td>59</td>\n",
              "      <td>2010</td>\n",
              "      <td>1</td>\n",
              "      <td>MAPAP</td>\n",
              "      <td>52394.0</td>\n",
              "      <td>False</td>\n",
              "      <td>478.0</td>\n",
              "      <td>3085.14</td>\n",
              "      <td>3068.14</td>\n",
              "      <td>17.00</td>\n",
              "      <td>1/1</td>\n",
              "      <td>01/01/2010</td>\n",
              "      <td>43.3504</td>\n",
              "      <td>-84.5603</td>\n",
              "      <td>(43.3504, -84.5603)</td>\n",
              "      <td>904198359</td>\n",
              "    </tr>\n",
              "  </tbody>\n",
              "</table>\n",
              "</div>"
            ],
            "text/plain": [
              "        Utilization Type State  ...             Location          NDC\n",
              "128037              FFSU    PA  ...  (35.5376, -96.9247)  50458055101\n",
              "491755              FFSU    IN  ...  (40.3363, -89.0022)    378261010\n",
              "2568076             FFSU    SD  ...   (18.2766, -66.335)  50242006201\n",
              "491263              FFSU    WY  ...  (44.0407, -72.7093)     93738201\n",
              "836489              MCOU    MN  ...  (43.3504, -84.5603)    904198359\n",
              "\n",
              "[5 rows x 20 columns]"
            ]
          },
          "metadata": {
            "tags": []
          },
          "execution_count": 45
        }
      ]
    },
    {
      "cell_type": "code",
      "metadata": {
        "id": "rHeKHn6TE5fE",
        "outputId": "d62ace5b-0ad6-4f69-93ce-574de614b313",
        "colab": {
          "base_uri": "https://localhost:8080/",
          "height": 492
        }
      },
      "source": [
        "## Find the information about df dataframe.\n",
        "\n",
        "df.info()"
      ],
      "execution_count": 46,
      "outputs": [
        {
          "output_type": "stream",
          "text": [
            "<class 'pandas.core.frame.DataFrame'>\n",
            "Int64Index: 156219 entries, 128037 to 2029158\n",
            "Data columns (total 20 columns):\n",
            " #   Column                          Non-Null Count   Dtype  \n",
            "---  ------                          --------------   -----  \n",
            " 0   Utilization Type                156219 non-null  object \n",
            " 1   State                           156219 non-null  object \n",
            " 2   Labeler Code                    156219 non-null  int64  \n",
            " 3   Product Code                    156219 non-null  int64  \n",
            " 4   Package Size                    156219 non-null  int64  \n",
            " 5   Year                            156219 non-null  int64  \n",
            " 6   Quarter                         156219 non-null  int64  \n",
            " 7   Product Name                    156192 non-null  object \n",
            " 8   Units Reimbursed                77002 non-null   float64\n",
            " 9   Suppression Used                156219 non-null  bool   \n",
            " 10  Number of Prescriptions         77002 non-null   float64\n",
            " 11  Total Amount Reimbursed         77002 non-null   float64\n",
            " 12  Medicaid Amount Reimbursed      77002 non-null   float64\n",
            " 13  Non Medicaid Amount Reimbursed  77002 non-null   float64\n",
            " 14  Quarter Begin                   156219 non-null  object \n",
            " 15  Quarter Begin Date              156219 non-null  object \n",
            " 16  Latitude                        145178 non-null  float64\n",
            " 17  Longitude                       145178 non-null  float64\n",
            " 18  Location                        145178 non-null  object \n",
            " 19  NDC                             156219 non-null  int64  \n",
            "dtypes: bool(1), float64(7), int64(6), object(6)\n",
            "memory usage: 24.0+ MB\n"
          ],
          "name": "stdout"
        }
      ]
    },
    {
      "cell_type": "code",
      "metadata": {
        "id": "dWWlTJ5KmtUi",
        "outputId": "99532248-202e-4439-ffb0-b37f8bd9c787",
        "colab": {
          "base_uri": "https://localhost:8080/",
          "height": 527
        }
      },
      "source": [
        "df_E_Col.info()"
      ],
      "execution_count": 47,
      "outputs": [
        {
          "output_type": "stream",
          "text": [
            "<class 'pandas.core.frame.DataFrame'>\n",
            "RangeIndex: 156219 entries, 0 to 156218\n",
            "Data columns (total 22 columns):\n",
            " #   Column                          Non-Null Count   Dtype  \n",
            "---  ------                          --------------   -----  \n",
            " 0   Utilization Type                156219 non-null  object \n",
            " 1   State                           156219 non-null  object \n",
            " 2   Labeler Code                    156219 non-null  int64  \n",
            " 3   Product Code                    156219 non-null  int64  \n",
            " 4   Package Size                    156219 non-null  int64  \n",
            " 5   Year                            156219 non-null  int64  \n",
            " 6   Quarter                         156219 non-null  int64  \n",
            " 7   Product Name                    156192 non-null  object \n",
            " 8   Units Reimbursed                77002 non-null   float64\n",
            " 9   Suppression Used                156219 non-null  bool   \n",
            " 10  Number of Prescriptions         77002 non-null   float64\n",
            " 11  Total Amount Reimbursed         77002 non-null   float64\n",
            " 12  Medicaid Amount Reimbursed      77002 non-null   float64\n",
            " 13  Non Medicaid Amount Reimbursed  77002 non-null   float64\n",
            " 14  Quarter Begin                   156219 non-null  object \n",
            " 15  Quarter Begin Date              156219 non-null  object \n",
            " 16  Latitude                        145178 non-null  float64\n",
            " 17  Longitude                       145178 non-null  float64\n",
            " 18  Location                        145178 non-null  object \n",
            " 19  NDC                             156219 non-null  int64  \n",
            " 20  date_dt                         156219 non-null  object \n",
            " 21  months                          156219 non-null  int64  \n",
            "dtypes: bool(1), float64(7), int64(7), object(7)\n",
            "memory usage: 25.2+ MB\n"
          ],
          "name": "stdout"
        }
      ]
    },
    {
      "cell_type": "code",
      "metadata": {
        "id": "h6_fpEgNHu3-",
        "outputId": "1165bc1e-c096-4ac4-b33d-19985dbdf669",
        "colab": {
          "base_uri": "https://localhost:8080/",
          "height": 387
        }
      },
      "source": [
        "## count non-missing values in dataframe df.\n",
        "\n",
        "print(df.count())"
      ],
      "execution_count": 48,
      "outputs": [
        {
          "output_type": "stream",
          "text": [
            "Utilization Type                  156219\n",
            "State                             156219\n",
            "Labeler Code                      156219\n",
            "Product Code                      156219\n",
            "Package Size                      156219\n",
            "Year                              156219\n",
            "Quarter                           156219\n",
            "Product Name                      156192\n",
            "Units Reimbursed                   77002\n",
            "Suppression Used                  156219\n",
            "Number of Prescriptions            77002\n",
            "Total Amount Reimbursed            77002\n",
            "Medicaid Amount Reimbursed         77002\n",
            "Non Medicaid Amount Reimbursed     77002\n",
            "Quarter Begin                     156219\n",
            "Quarter Begin Date                156219\n",
            "Latitude                          145178\n",
            "Longitude                         145178\n",
            "Location                          145178\n",
            "NDC                               156219\n",
            "dtype: int64\n"
          ],
          "name": "stdout"
        }
      ]
    },
    {
      "cell_type": "code",
      "metadata": {
        "id": "QLtvGcxvOHY4",
        "outputId": "13c728b0-0e3c-43be-89e2-677c2718f254",
        "colab": {
          "base_uri": "https://localhost:8080/",
          "height": 35
        }
      },
      "source": [
        "total_rows = df.shape[0]\n",
        "print(total_rows)"
      ],
      "execution_count": 49,
      "outputs": [
        {
          "output_type": "stream",
          "text": [
            "156219\n"
          ],
          "name": "stdout"
        }
      ]
    },
    {
      "cell_type": "code",
      "metadata": {
        "id": "2TsBFpSxOHuo",
        "outputId": "2e243533-b93d-4037-e4ef-ca32d3500841",
        "colab": {
          "base_uri": "https://localhost:8080/",
          "height": 387
        }
      },
      "source": [
        "## missing values in df dataframe\n",
        "\n",
        "missing = total_rows - df.count()\n",
        "print(missing)"
      ],
      "execution_count": 50,
      "outputs": [
        {
          "output_type": "stream",
          "text": [
            "Utilization Type                      0\n",
            "State                                 0\n",
            "Labeler Code                          0\n",
            "Product Code                          0\n",
            "Package Size                          0\n",
            "Year                                  0\n",
            "Quarter                               0\n",
            "Product Name                         27\n",
            "Units Reimbursed                  79217\n",
            "Suppression Used                      0\n",
            "Number of Prescriptions           79217\n",
            "Total Amount Reimbursed           79217\n",
            "Medicaid Amount Reimbursed        79217\n",
            "Non Medicaid Amount Reimbursed    79217\n",
            "Quarter Begin                         0\n",
            "Quarter Begin Date                    0\n",
            "Latitude                          11041\n",
            "Longitude                         11041\n",
            "Location                          11041\n",
            "NDC                                   0\n",
            "dtype: int64\n"
          ],
          "name": "stdout"
        }
      ]
    },
    {
      "cell_type": "markdown",
      "metadata": {
        "id": "F6lXKtxSPdxK"
      },
      "source": [
        "##  Splitting df dataframe into three small dataframes df1, df2, and df3.\n",
        "### And their information.   "
      ]
    },
    {
      "cell_type": "code",
      "metadata": {
        "id": "gEmA6lMWH3JF"
      },
      "source": [
        "## createing df1 dataframe from df with random_state = 3\n",
        "\n",
        "df1 = df.sample(frac=0.10, replace=True,random_state=3)"
      ],
      "execution_count": 51,
      "outputs": []
    },
    {
      "cell_type": "code",
      "metadata": {
        "id": "I1iYS584Jq2E",
        "outputId": "6617ae76-6119-49dd-873b-5eee8ed1931b",
        "colab": {
          "base_uri": "https://localhost:8080/",
          "height": 492
        }
      },
      "source": [
        "## information about df1 dataframe\n",
        "\n",
        "df1.info()"
      ],
      "execution_count": 52,
      "outputs": [
        {
          "output_type": "stream",
          "text": [
            "<class 'pandas.core.frame.DataFrame'>\n",
            "Int64Index: 15622 entries, 428522 to 488690\n",
            "Data columns (total 20 columns):\n",
            " #   Column                          Non-Null Count  Dtype  \n",
            "---  ------                          --------------  -----  \n",
            " 0   Utilization Type                15622 non-null  object \n",
            " 1   State                           15622 non-null  object \n",
            " 2   Labeler Code                    15622 non-null  int64  \n",
            " 3   Product Code                    15622 non-null  int64  \n",
            " 4   Package Size                    15622 non-null  int64  \n",
            " 5   Year                            15622 non-null  int64  \n",
            " 6   Quarter                         15622 non-null  int64  \n",
            " 7   Product Name                    15621 non-null  object \n",
            " 8   Units Reimbursed                7658 non-null   float64\n",
            " 9   Suppression Used                15622 non-null  bool   \n",
            " 10  Number of Prescriptions         7658 non-null   float64\n",
            " 11  Total Amount Reimbursed         7658 non-null   float64\n",
            " 12  Medicaid Amount Reimbursed      7658 non-null   float64\n",
            " 13  Non Medicaid Amount Reimbursed  7658 non-null   float64\n",
            " 14  Quarter Begin                   15622 non-null  object \n",
            " 15  Quarter Begin Date              15622 non-null  object \n",
            " 16  Latitude                        14590 non-null  float64\n",
            " 17  Longitude                       14590 non-null  float64\n",
            " 18  Location                        14590 non-null  object \n",
            " 19  NDC                             15622 non-null  int64  \n",
            "dtypes: bool(1), float64(7), int64(6), object(6)\n",
            "memory usage: 2.4+ MB\n"
          ],
          "name": "stdout"
        }
      ]
    },
    {
      "cell_type": "code",
      "metadata": {
        "id": "V0bZbw-9JtDF"
      },
      "source": [
        "## creating df2 from dataframe df with random state = 1\n",
        "\n",
        "df2=df.sample(frac=0.05, replace=True,random_state=1)"
      ],
      "execution_count": 53,
      "outputs": []
    },
    {
      "cell_type": "code",
      "metadata": {
        "id": "T1E9pavdKzV7",
        "outputId": "38e8132c-7645-4646-9826-4fe4ea2bb15c",
        "colab": {
          "base_uri": "https://localhost:8080/",
          "height": 492
        }
      },
      "source": [
        "## df2 dataframe information\n",
        "\n",
        "df2.info()"
      ],
      "execution_count": 54,
      "outputs": [
        {
          "output_type": "stream",
          "text": [
            "<class 'pandas.core.frame.DataFrame'>\n",
            "Int64Index: 7811 entries, 297796 to 1927959\n",
            "Data columns (total 20 columns):\n",
            " #   Column                          Non-Null Count  Dtype  \n",
            "---  ------                          --------------  -----  \n",
            " 0   Utilization Type                7811 non-null   object \n",
            " 1   State                           7811 non-null   object \n",
            " 2   Labeler Code                    7811 non-null   int64  \n",
            " 3   Product Code                    7811 non-null   int64  \n",
            " 4   Package Size                    7811 non-null   int64  \n",
            " 5   Year                            7811 non-null   int64  \n",
            " 6   Quarter                         7811 non-null   int64  \n",
            " 7   Product Name                    7810 non-null   object \n",
            " 8   Units Reimbursed                3783 non-null   float64\n",
            " 9   Suppression Used                7811 non-null   bool   \n",
            " 10  Number of Prescriptions         3783 non-null   float64\n",
            " 11  Total Amount Reimbursed         3783 non-null   float64\n",
            " 12  Medicaid Amount Reimbursed      3783 non-null   float64\n",
            " 13  Non Medicaid Amount Reimbursed  3783 non-null   float64\n",
            " 14  Quarter Begin                   7811 non-null   object \n",
            " 15  Quarter Begin Date              7811 non-null   object \n",
            " 16  Latitude                        7272 non-null   float64\n",
            " 17  Longitude                       7272 non-null   float64\n",
            " 18  Location                        7272 non-null   object \n",
            " 19  NDC                             7811 non-null   int64  \n",
            "dtypes: bool(1), float64(7), int64(6), object(6)\n",
            "memory usage: 1.2+ MB\n"
          ],
          "name": "stdout"
        }
      ]
    },
    {
      "cell_type": "code",
      "metadata": {
        "id": "AzmcQNvvK1GE"
      },
      "source": [
        "## creating df3 from dataframe df with random state = 6\n",
        "\n",
        "df3 = df.sample(frac=0.06, replace=True,random_state=6)"
      ],
      "execution_count": 55,
      "outputs": []
    },
    {
      "cell_type": "code",
      "metadata": {
        "id": "nTS6b3CKMuYU",
        "outputId": "6faaa093-7389-4f65-b45f-5ddfb5e89812",
        "colab": {
          "base_uri": "https://localhost:8080/",
          "height": 492
        }
      },
      "source": [
        "## information about df3 dataframe\n",
        "\n",
        "df3.info()"
      ],
      "execution_count": 56,
      "outputs": [
        {
          "output_type": "stream",
          "text": [
            "<class 'pandas.core.frame.DataFrame'>\n",
            "Int64Index: 9373 entries, 2349874 to 1742602\n",
            "Data columns (total 20 columns):\n",
            " #   Column                          Non-Null Count  Dtype  \n",
            "---  ------                          --------------  -----  \n",
            " 0   Utilization Type                9373 non-null   object \n",
            " 1   State                           9373 non-null   object \n",
            " 2   Labeler Code                    9373 non-null   int64  \n",
            " 3   Product Code                    9373 non-null   int64  \n",
            " 4   Package Size                    9373 non-null   int64  \n",
            " 5   Year                            9373 non-null   int64  \n",
            " 6   Quarter                         9373 non-null   int64  \n",
            " 7   Product Name                    9369 non-null   object \n",
            " 8   Units Reimbursed                4626 non-null   float64\n",
            " 9   Suppression Used                9373 non-null   bool   \n",
            " 10  Number of Prescriptions         4626 non-null   float64\n",
            " 11  Total Amount Reimbursed         4626 non-null   float64\n",
            " 12  Medicaid Amount Reimbursed      4626 non-null   float64\n",
            " 13  Non Medicaid Amount Reimbursed  4626 non-null   float64\n",
            " 14  Quarter Begin                   9373 non-null   object \n",
            " 15  Quarter Begin Date              9373 non-null   object \n",
            " 16  Latitude                        8728 non-null   float64\n",
            " 17  Longitude                       8728 non-null   float64\n",
            " 18  Location                        8728 non-null   object \n",
            " 19  NDC                             9373 non-null   int64  \n",
            "dtypes: bool(1), float64(7), int64(6), object(6)\n",
            "memory usage: 1.4+ MB\n"
          ],
          "name": "stdout"
        }
      ]
    },
    {
      "cell_type": "markdown",
      "metadata": {
        "id": "fKLW9193S9H5"
      },
      "source": [
        "## Concatenating df1, df2, d3"
      ]
    },
    {
      "cell_type": "code",
      "metadata": {
        "id": "QuUIy9yCQ84W",
        "outputId": "56d2e629-e5dd-4cf2-85aa-ee5e9f3d2b3b",
        "colab": {
          "base_uri": "https://localhost:8080/",
          "height": 492
        }
      },
      "source": [
        "row_concat=pd.concat([df1,df2,df3], ignore_index=True)\n",
        "row_concat.info()"
      ],
      "execution_count": 57,
      "outputs": [
        {
          "output_type": "stream",
          "text": [
            "<class 'pandas.core.frame.DataFrame'>\n",
            "RangeIndex: 32806 entries, 0 to 32805\n",
            "Data columns (total 20 columns):\n",
            " #   Column                          Non-Null Count  Dtype  \n",
            "---  ------                          --------------  -----  \n",
            " 0   Utilization Type                32806 non-null  object \n",
            " 1   State                           32806 non-null  object \n",
            " 2   Labeler Code                    32806 non-null  int64  \n",
            " 3   Product Code                    32806 non-null  int64  \n",
            " 4   Package Size                    32806 non-null  int64  \n",
            " 5   Year                            32806 non-null  int64  \n",
            " 6   Quarter                         32806 non-null  int64  \n",
            " 7   Product Name                    32800 non-null  object \n",
            " 8   Units Reimbursed                16067 non-null  float64\n",
            " 9   Suppression Used                32806 non-null  bool   \n",
            " 10  Number of Prescriptions         16067 non-null  float64\n",
            " 11  Total Amount Reimbursed         16067 non-null  float64\n",
            " 12  Medicaid Amount Reimbursed      16067 non-null  float64\n",
            " 13  Non Medicaid Amount Reimbursed  16067 non-null  float64\n",
            " 14  Quarter Begin                   32806 non-null  object \n",
            " 15  Quarter Begin Date              32806 non-null  object \n",
            " 16  Latitude                        30590 non-null  float64\n",
            " 17  Longitude                       30590 non-null  float64\n",
            " 18  Location                        30590 non-null  object \n",
            " 19  NDC                             32806 non-null  int64  \n",
            "dtypes: bool(1), float64(7), int64(6), object(6)\n",
            "memory usage: 4.8+ MB\n"
          ],
          "name": "stdout"
        }
      ]
    },
    {
      "cell_type": "code",
      "metadata": {
        "id": "pQA3G0p_S3dm",
        "outputId": "076cfcc5-f890-48df-a297-c55667d4ed47",
        "colab": {
          "base_uri": "https://localhost:8080/",
          "height": 35
        }
      },
      "source": [
        "len(row_concat)"
      ],
      "execution_count": 58,
      "outputs": [
        {
          "output_type": "execute_result",
          "data": {
            "text/plain": [
              "32806"
            ]
          },
          "metadata": {
            "tags": []
          },
          "execution_count": 58
        }
      ]
    },
    {
      "cell_type": "code",
      "metadata": {
        "id": "rchpRgNWT2DO",
        "outputId": "fcfd47cd-a44e-43e5-fa4f-a4181ddcd253",
        "colab": {
          "base_uri": "https://localhost:8080/",
          "height": 35
        }
      },
      "source": [
        "## removing duplicate rows if any picked during split in dataframe df into three dataframes\n",
        "\n",
        "row_concat.drop_duplicates()\n",
        "len(row_concat)"
      ],
      "execution_count": 59,
      "outputs": [
        {
          "output_type": "execute_result",
          "data": {
            "text/plain": [
              "32806"
            ]
          },
          "metadata": {
            "tags": []
          },
          "execution_count": 59
        }
      ]
    },
    {
      "cell_type": "code",
      "metadata": {
        "id": "FzmMZnY-UduN"
      },
      "source": [
        "## selected 21 % of the dataset which has extra column 'month' \n",
        "## now both data sets have 32806 records \n",
        "\n",
        "df_E_1 = df_E_Col.sample(frac=0.21, replace=True,random_state=8)"
      ],
      "execution_count": 60,
      "outputs": []
    },
    {
      "cell_type": "code",
      "metadata": {
        "id": "zbj13vZoUzhe",
        "outputId": "ab66c024-fd9b-4200-944e-e892f78727de",
        "colab": {
          "base_uri": "https://localhost:8080/",
          "height": 527
        }
      },
      "source": [
        "len(df_E_1)\n",
        "df_E_1.info()"
      ],
      "execution_count": 61,
      "outputs": [
        {
          "output_type": "stream",
          "text": [
            "<class 'pandas.core.frame.DataFrame'>\n",
            "Int64Index: 32806 entries, 70083 to 64713\n",
            "Data columns (total 22 columns):\n",
            " #   Column                          Non-Null Count  Dtype  \n",
            "---  ------                          --------------  -----  \n",
            " 0   Utilization Type                32806 non-null  object \n",
            " 1   State                           32806 non-null  object \n",
            " 2   Labeler Code                    32806 non-null  int64  \n",
            " 3   Product Code                    32806 non-null  int64  \n",
            " 4   Package Size                    32806 non-null  int64  \n",
            " 5   Year                            32806 non-null  int64  \n",
            " 6   Quarter                         32806 non-null  int64  \n",
            " 7   Product Name                    32799 non-null  object \n",
            " 8   Units Reimbursed                16194 non-null  float64\n",
            " 9   Suppression Used                32806 non-null  bool   \n",
            " 10  Number of Prescriptions         16194 non-null  float64\n",
            " 11  Total Amount Reimbursed         16194 non-null  float64\n",
            " 12  Medicaid Amount Reimbursed      16194 non-null  float64\n",
            " 13  Non Medicaid Amount Reimbursed  16194 non-null  float64\n",
            " 14  Quarter Begin                   32806 non-null  object \n",
            " 15  Quarter Begin Date              32806 non-null  object \n",
            " 16  Latitude                        30463 non-null  float64\n",
            " 17  Longitude                       30463 non-null  float64\n",
            " 18  Location                        30463 non-null  object \n",
            " 19  NDC                             32806 non-null  int64  \n",
            " 20  date_dt                         32806 non-null  object \n",
            " 21  months                          32806 non-null  int64  \n",
            "dtypes: bool(1), float64(7), int64(7), object(7)\n",
            "memory usage: 5.5+ MB\n"
          ],
          "name": "stdout"
        }
      ]
    },
    {
      "cell_type": "markdown",
      "metadata": {
        "id": "fnl8smMKV4ry"
      },
      "source": [
        "## Concatenate two dataframes row_concat & df_E_1."
      ]
    },
    {
      "cell_type": "code",
      "metadata": {
        "id": "OH6RsnwSU2Ol"
      },
      "source": [
        "concat_dfs = pd.concat([row_concat, df_E_1], ignore_index=True) "
      ],
      "execution_count": 62,
      "outputs": []
    },
    {
      "cell_type": "code",
      "metadata": {
        "id": "cQPPJa7aX5A1",
        "outputId": "efde84f9-6979-402b-c962-fe2778334f0d",
        "colab": {
          "base_uri": "https://localhost:8080/",
          "height": 527
        }
      },
      "source": [
        "concat_dfs.info()"
      ],
      "execution_count": 63,
      "outputs": [
        {
          "output_type": "stream",
          "text": [
            "<class 'pandas.core.frame.DataFrame'>\n",
            "RangeIndex: 65612 entries, 0 to 65611\n",
            "Data columns (total 22 columns):\n",
            " #   Column                          Non-Null Count  Dtype  \n",
            "---  ------                          --------------  -----  \n",
            " 0   Utilization Type                65612 non-null  object \n",
            " 1   State                           65612 non-null  object \n",
            " 2   Labeler Code                    65612 non-null  int64  \n",
            " 3   Product Code                    65612 non-null  int64  \n",
            " 4   Package Size                    65612 non-null  int64  \n",
            " 5   Year                            65612 non-null  int64  \n",
            " 6   Quarter                         65612 non-null  int64  \n",
            " 7   Product Name                    65599 non-null  object \n",
            " 8   Units Reimbursed                32261 non-null  float64\n",
            " 9   Suppression Used                65612 non-null  bool   \n",
            " 10  Number of Prescriptions         32261 non-null  float64\n",
            " 11  Total Amount Reimbursed         32261 non-null  float64\n",
            " 12  Medicaid Amount Reimbursed      32261 non-null  float64\n",
            " 13  Non Medicaid Amount Reimbursed  32261 non-null  float64\n",
            " 14  Quarter Begin                   65612 non-null  object \n",
            " 15  Quarter Begin Date              65612 non-null  object \n",
            " 16  Latitude                        61053 non-null  float64\n",
            " 17  Longitude                       61053 non-null  float64\n",
            " 18  Location                        61053 non-null  object \n",
            " 19  NDC                             65612 non-null  int64  \n",
            " 20  date_dt                         32806 non-null  object \n",
            " 21  months                          32806 non-null  float64\n",
            "dtypes: bool(1), float64(8), int64(6), object(7)\n",
            "memory usage: 10.6+ MB\n"
          ],
          "name": "stdout"
        }
      ]
    },
    {
      "cell_type": "code",
      "metadata": {
        "id": "KKpjYJgLYUxe",
        "outputId": "79afbb9b-6421-4eab-87cd-8e632e740d62",
        "colab": {
          "base_uri": "https://localhost:8080/",
          "height": 343
        }
      },
      "source": [
        "concat_dfs.head()"
      ],
      "execution_count": 64,
      "outputs": [
        {
          "output_type": "execute_result",
          "data": {
            "text/html": [
              "<div>\n",
              "<style scoped>\n",
              "    .dataframe tbody tr th:only-of-type {\n",
              "        vertical-align: middle;\n",
              "    }\n",
              "\n",
              "    .dataframe tbody tr th {\n",
              "        vertical-align: top;\n",
              "    }\n",
              "\n",
              "    .dataframe thead th {\n",
              "        text-align: right;\n",
              "    }\n",
              "</style>\n",
              "<table border=\"1\" class=\"dataframe\">\n",
              "  <thead>\n",
              "    <tr style=\"text-align: right;\">\n",
              "      <th></th>\n",
              "      <th>Utilization Type</th>\n",
              "      <th>State</th>\n",
              "      <th>Labeler Code</th>\n",
              "      <th>Product Code</th>\n",
              "      <th>Package Size</th>\n",
              "      <th>Year</th>\n",
              "      <th>Quarter</th>\n",
              "      <th>Product Name</th>\n",
              "      <th>Units Reimbursed</th>\n",
              "      <th>Suppression Used</th>\n",
              "      <th>Number of Prescriptions</th>\n",
              "      <th>Total Amount Reimbursed</th>\n",
              "      <th>Medicaid Amount Reimbursed</th>\n",
              "      <th>Non Medicaid Amount Reimbursed</th>\n",
              "      <th>Quarter Begin</th>\n",
              "      <th>Quarter Begin Date</th>\n",
              "      <th>Latitude</th>\n",
              "      <th>Longitude</th>\n",
              "      <th>Location</th>\n",
              "      <th>NDC</th>\n",
              "      <th>date_dt</th>\n",
              "      <th>months</th>\n",
              "    </tr>\n",
              "  </thead>\n",
              "  <tbody>\n",
              "    <tr>\n",
              "      <th>0</th>\n",
              "      <td>FFSU</td>\n",
              "      <td>XX</td>\n",
              "      <td>24385</td>\n",
              "      <td>357</td>\n",
              "      <td>40</td>\n",
              "      <td>2010</td>\n",
              "      <td>4</td>\n",
              "      <td>MASANTI OR</td>\n",
              "      <td>1125028.714</td>\n",
              "      <td>False</td>\n",
              "      <td>2093.0</td>\n",
              "      <td>20881.51</td>\n",
              "      <td>20773.68</td>\n",
              "      <td>107.83</td>\n",
              "      <td>10/1</td>\n",
              "      <td>10/01/2010</td>\n",
              "      <td>NaN</td>\n",
              "      <td>NaN</td>\n",
              "      <td>NaN</td>\n",
              "      <td>24385035740</td>\n",
              "      <td>NaN</td>\n",
              "      <td>NaN</td>\n",
              "    </tr>\n",
              "    <tr>\n",
              "      <th>1</th>\n",
              "      <td>FFSU</td>\n",
              "      <td>CO</td>\n",
              "      <td>378</td>\n",
              "      <td>724</td>\n",
              "      <td>19</td>\n",
              "      <td>2010</td>\n",
              "      <td>1</td>\n",
              "      <td>TIZANIDINE</td>\n",
              "      <td>2514.000</td>\n",
              "      <td>False</td>\n",
              "      <td>32.0</td>\n",
              "      <td>880.56</td>\n",
              "      <td>880.56</td>\n",
              "      <td>0.00</td>\n",
              "      <td>1/1</td>\n",
              "      <td>01/01/2010</td>\n",
              "      <td>36.1700</td>\n",
              "      <td>-119.7462</td>\n",
              "      <td>(36.17, -119.7462)</td>\n",
              "      <td>378072419</td>\n",
              "      <td>NaN</td>\n",
              "      <td>NaN</td>\n",
              "    </tr>\n",
              "    <tr>\n",
              "      <th>2</th>\n",
              "      <td>FFSU</td>\n",
              "      <td>OH</td>\n",
              "      <td>13668</td>\n",
              "      <td>268</td>\n",
              "      <td>5</td>\n",
              "      <td>2010</td>\n",
              "      <td>2</td>\n",
              "      <td>CARBAMAZEP</td>\n",
              "      <td>1271.000</td>\n",
              "      <td>False</td>\n",
              "      <td>15.0</td>\n",
              "      <td>131.96</td>\n",
              "      <td>131.96</td>\n",
              "      <td>0.00</td>\n",
              "      <td>4/1</td>\n",
              "      <td>04/01/2010</td>\n",
              "      <td>38.4199</td>\n",
              "      <td>-117.1219</td>\n",
              "      <td>(38.4199, -117.1219)</td>\n",
              "      <td>13668026805</td>\n",
              "      <td>NaN</td>\n",
              "      <td>NaN</td>\n",
              "    </tr>\n",
              "    <tr>\n",
              "      <th>3</th>\n",
              "      <td>MCOU</td>\n",
              "      <td>KS</td>\n",
              "      <td>591</td>\n",
              "      <td>795</td>\n",
              "      <td>1</td>\n",
              "      <td>2010</td>\n",
              "      <td>4</td>\n",
              "      <td>DICYCLOMIN</td>\n",
              "      <td>4870.000</td>\n",
              "      <td>False</td>\n",
              "      <td>80.0</td>\n",
              "      <td>775.70</td>\n",
              "      <td>568.70</td>\n",
              "      <td>207.00</td>\n",
              "      <td>10/1</td>\n",
              "      <td>10/01/2010</td>\n",
              "      <td>39.8647</td>\n",
              "      <td>-86.2604</td>\n",
              "      <td>(39.8647, -86.2604)</td>\n",
              "      <td>591079501</td>\n",
              "      <td>NaN</td>\n",
              "      <td>NaN</td>\n",
              "    </tr>\n",
              "    <tr>\n",
              "      <th>4</th>\n",
              "      <td>FFSU</td>\n",
              "      <td>NC</td>\n",
              "      <td>409</td>\n",
              "      <td>3590</td>\n",
              "      <td>2</td>\n",
              "      <td>2010</td>\n",
              "      <td>3</td>\n",
              "      <td>TOBRAMYCIN</td>\n",
              "      <td>NaN</td>\n",
              "      <td>True</td>\n",
              "      <td>NaN</td>\n",
              "      <td>NaN</td>\n",
              "      <td>NaN</td>\n",
              "      <td>NaN</td>\n",
              "      <td>7/1</td>\n",
              "      <td>07/01/2010</td>\n",
              "      <td>32.7673</td>\n",
              "      <td>-89.6812</td>\n",
              "      <td>(32.7673, -89.6812)</td>\n",
              "      <td>409359002</td>\n",
              "      <td>NaN</td>\n",
              "      <td>NaN</td>\n",
              "    </tr>\n",
              "  </tbody>\n",
              "</table>\n",
              "</div>"
            ],
            "text/plain": [
              "  Utilization Type State  Labeler Code  ...          NDC  date_dt  months\n",
              "0             FFSU    XX         24385  ...  24385035740      NaN     NaN\n",
              "1             FFSU    CO           378  ...    378072419      NaN     NaN\n",
              "2             FFSU    OH         13668  ...  13668026805      NaN     NaN\n",
              "3             MCOU    KS           591  ...    591079501      NaN     NaN\n",
              "4             FFSU    NC           409  ...    409359002      NaN     NaN\n",
              "\n",
              "[5 rows x 22 columns]"
            ]
          },
          "metadata": {
            "tags": []
          },
          "execution_count": 64
        }
      ]
    },
    {
      "cell_type": "markdown",
      "metadata": {
        "id": "9Y4B69idvJpt"
      },
      "source": [
        "## Replace missing values in new colums 'month' and 'date_dt' with values."
      ]
    },
    {
      "cell_type": "code",
      "metadata": {
        "id": "ZKKzhtspczeO"
      },
      "source": [
        "## use fillna() method to fill 01/01/0001 in missing values for date_dt\n",
        "## use fillna method() to fill 0 value in months value\n",
        "\n",
        "concat_dfs[\"date_dt\"].fillna(\"01/01/0001\", inplace=True)\n",
        "concat_dfs[\"months\"].fillna(0, inplace=True)"
      ],
      "execution_count": 65,
      "outputs": []
    },
    {
      "cell_type": "code",
      "metadata": {
        "id": "0hAfzEfBuT0h",
        "outputId": "cae15e79-55d5-4394-9973-9b4f86f67aae",
        "colab": {
          "base_uri": "https://localhost:8080/",
          "height": 343
        }
      },
      "source": [
        "concat_dfs.head()"
      ],
      "execution_count": 66,
      "outputs": [
        {
          "output_type": "execute_result",
          "data": {
            "text/html": [
              "<div>\n",
              "<style scoped>\n",
              "    .dataframe tbody tr th:only-of-type {\n",
              "        vertical-align: middle;\n",
              "    }\n",
              "\n",
              "    .dataframe tbody tr th {\n",
              "        vertical-align: top;\n",
              "    }\n",
              "\n",
              "    .dataframe thead th {\n",
              "        text-align: right;\n",
              "    }\n",
              "</style>\n",
              "<table border=\"1\" class=\"dataframe\">\n",
              "  <thead>\n",
              "    <tr style=\"text-align: right;\">\n",
              "      <th></th>\n",
              "      <th>Utilization Type</th>\n",
              "      <th>State</th>\n",
              "      <th>Labeler Code</th>\n",
              "      <th>Product Code</th>\n",
              "      <th>Package Size</th>\n",
              "      <th>Year</th>\n",
              "      <th>Quarter</th>\n",
              "      <th>Product Name</th>\n",
              "      <th>Units Reimbursed</th>\n",
              "      <th>Suppression Used</th>\n",
              "      <th>Number of Prescriptions</th>\n",
              "      <th>Total Amount Reimbursed</th>\n",
              "      <th>Medicaid Amount Reimbursed</th>\n",
              "      <th>Non Medicaid Amount Reimbursed</th>\n",
              "      <th>Quarter Begin</th>\n",
              "      <th>Quarter Begin Date</th>\n",
              "      <th>Latitude</th>\n",
              "      <th>Longitude</th>\n",
              "      <th>Location</th>\n",
              "      <th>NDC</th>\n",
              "      <th>date_dt</th>\n",
              "      <th>months</th>\n",
              "    </tr>\n",
              "  </thead>\n",
              "  <tbody>\n",
              "    <tr>\n",
              "      <th>0</th>\n",
              "      <td>FFSU</td>\n",
              "      <td>XX</td>\n",
              "      <td>24385</td>\n",
              "      <td>357</td>\n",
              "      <td>40</td>\n",
              "      <td>2010</td>\n",
              "      <td>4</td>\n",
              "      <td>MASANTI OR</td>\n",
              "      <td>1125028.714</td>\n",
              "      <td>False</td>\n",
              "      <td>2093.0</td>\n",
              "      <td>20881.51</td>\n",
              "      <td>20773.68</td>\n",
              "      <td>107.83</td>\n",
              "      <td>10/1</td>\n",
              "      <td>10/01/2010</td>\n",
              "      <td>NaN</td>\n",
              "      <td>NaN</td>\n",
              "      <td>NaN</td>\n",
              "      <td>24385035740</td>\n",
              "      <td>01/01/0001</td>\n",
              "      <td>0.0</td>\n",
              "    </tr>\n",
              "    <tr>\n",
              "      <th>1</th>\n",
              "      <td>FFSU</td>\n",
              "      <td>CO</td>\n",
              "      <td>378</td>\n",
              "      <td>724</td>\n",
              "      <td>19</td>\n",
              "      <td>2010</td>\n",
              "      <td>1</td>\n",
              "      <td>TIZANIDINE</td>\n",
              "      <td>2514.000</td>\n",
              "      <td>False</td>\n",
              "      <td>32.0</td>\n",
              "      <td>880.56</td>\n",
              "      <td>880.56</td>\n",
              "      <td>0.00</td>\n",
              "      <td>1/1</td>\n",
              "      <td>01/01/2010</td>\n",
              "      <td>36.1700</td>\n",
              "      <td>-119.7462</td>\n",
              "      <td>(36.17, -119.7462)</td>\n",
              "      <td>378072419</td>\n",
              "      <td>01/01/0001</td>\n",
              "      <td>0.0</td>\n",
              "    </tr>\n",
              "    <tr>\n",
              "      <th>2</th>\n",
              "      <td>FFSU</td>\n",
              "      <td>OH</td>\n",
              "      <td>13668</td>\n",
              "      <td>268</td>\n",
              "      <td>5</td>\n",
              "      <td>2010</td>\n",
              "      <td>2</td>\n",
              "      <td>CARBAMAZEP</td>\n",
              "      <td>1271.000</td>\n",
              "      <td>False</td>\n",
              "      <td>15.0</td>\n",
              "      <td>131.96</td>\n",
              "      <td>131.96</td>\n",
              "      <td>0.00</td>\n",
              "      <td>4/1</td>\n",
              "      <td>04/01/2010</td>\n",
              "      <td>38.4199</td>\n",
              "      <td>-117.1219</td>\n",
              "      <td>(38.4199, -117.1219)</td>\n",
              "      <td>13668026805</td>\n",
              "      <td>01/01/0001</td>\n",
              "      <td>0.0</td>\n",
              "    </tr>\n",
              "    <tr>\n",
              "      <th>3</th>\n",
              "      <td>MCOU</td>\n",
              "      <td>KS</td>\n",
              "      <td>591</td>\n",
              "      <td>795</td>\n",
              "      <td>1</td>\n",
              "      <td>2010</td>\n",
              "      <td>4</td>\n",
              "      <td>DICYCLOMIN</td>\n",
              "      <td>4870.000</td>\n",
              "      <td>False</td>\n",
              "      <td>80.0</td>\n",
              "      <td>775.70</td>\n",
              "      <td>568.70</td>\n",
              "      <td>207.00</td>\n",
              "      <td>10/1</td>\n",
              "      <td>10/01/2010</td>\n",
              "      <td>39.8647</td>\n",
              "      <td>-86.2604</td>\n",
              "      <td>(39.8647, -86.2604)</td>\n",
              "      <td>591079501</td>\n",
              "      <td>01/01/0001</td>\n",
              "      <td>0.0</td>\n",
              "    </tr>\n",
              "    <tr>\n",
              "      <th>4</th>\n",
              "      <td>FFSU</td>\n",
              "      <td>NC</td>\n",
              "      <td>409</td>\n",
              "      <td>3590</td>\n",
              "      <td>2</td>\n",
              "      <td>2010</td>\n",
              "      <td>3</td>\n",
              "      <td>TOBRAMYCIN</td>\n",
              "      <td>NaN</td>\n",
              "      <td>True</td>\n",
              "      <td>NaN</td>\n",
              "      <td>NaN</td>\n",
              "      <td>NaN</td>\n",
              "      <td>NaN</td>\n",
              "      <td>7/1</td>\n",
              "      <td>07/01/2010</td>\n",
              "      <td>32.7673</td>\n",
              "      <td>-89.6812</td>\n",
              "      <td>(32.7673, -89.6812)</td>\n",
              "      <td>409359002</td>\n",
              "      <td>01/01/0001</td>\n",
              "      <td>0.0</td>\n",
              "    </tr>\n",
              "  </tbody>\n",
              "</table>\n",
              "</div>"
            ],
            "text/plain": [
              "  Utilization Type State  Labeler Code  ...          NDC     date_dt  months\n",
              "0             FFSU    XX         24385  ...  24385035740  01/01/0001     0.0\n",
              "1             FFSU    CO           378  ...    378072419  01/01/0001     0.0\n",
              "2             FFSU    OH         13668  ...  13668026805  01/01/0001     0.0\n",
              "3             MCOU    KS           591  ...    591079501  01/01/0001     0.0\n",
              "4             FFSU    NC           409  ...    409359002  01/01/0001     0.0\n",
              "\n",
              "[5 rows x 22 columns]"
            ]
          },
          "metadata": {
            "tags": []
          },
          "execution_count": 66
        }
      ]
    },
    {
      "cell_type": "code",
      "metadata": {
        "id": "M7JGZ_5tumFi",
        "outputId": "d5782a23-5638-4251-c295-305d618b0401",
        "colab": {
          "base_uri": "https://localhost:8080/",
          "height": 527
        }
      },
      "source": [
        "concat_dfs.info()"
      ],
      "execution_count": 67,
      "outputs": [
        {
          "output_type": "stream",
          "text": [
            "<class 'pandas.core.frame.DataFrame'>\n",
            "RangeIndex: 65612 entries, 0 to 65611\n",
            "Data columns (total 22 columns):\n",
            " #   Column                          Non-Null Count  Dtype  \n",
            "---  ------                          --------------  -----  \n",
            " 0   Utilization Type                65612 non-null  object \n",
            " 1   State                           65612 non-null  object \n",
            " 2   Labeler Code                    65612 non-null  int64  \n",
            " 3   Product Code                    65612 non-null  int64  \n",
            " 4   Package Size                    65612 non-null  int64  \n",
            " 5   Year                            65612 non-null  int64  \n",
            " 6   Quarter                         65612 non-null  int64  \n",
            " 7   Product Name                    65599 non-null  object \n",
            " 8   Units Reimbursed                32261 non-null  float64\n",
            " 9   Suppression Used                65612 non-null  bool   \n",
            " 10  Number of Prescriptions         32261 non-null  float64\n",
            " 11  Total Amount Reimbursed         32261 non-null  float64\n",
            " 12  Medicaid Amount Reimbursed      32261 non-null  float64\n",
            " 13  Non Medicaid Amount Reimbursed  32261 non-null  float64\n",
            " 14  Quarter Begin                   65612 non-null  object \n",
            " 15  Quarter Begin Date              65612 non-null  object \n",
            " 16  Latitude                        61053 non-null  float64\n",
            " 17  Longitude                       61053 non-null  float64\n",
            " 18  Location                        61053 non-null  object \n",
            " 19  NDC                             65612 non-null  int64  \n",
            " 20  date_dt                         65612 non-null  object \n",
            " 21  months                          65612 non-null  float64\n",
            "dtypes: bool(1), float64(8), int64(6), object(7)\n",
            "memory usage: 10.6+ MB\n"
          ],
          "name": "stdout"
        }
      ]
    },
    {
      "cell_type": "code",
      "metadata": {
        "id": "VekHEswsEVn8",
        "outputId": "94ac75f9-56c8-4778-9f5b-c7b608fef3d3",
        "colab": {
          "base_uri": "https://localhost:8080/",
          "height": 422
        }
      },
      "source": [
        "print(concat_dfs.count())"
      ],
      "execution_count": 76,
      "outputs": [
        {
          "output_type": "stream",
          "text": [
            "Utilization Type                  65612\n",
            "State                             65612\n",
            "Labeler Code                      65612\n",
            "Product Code                      65612\n",
            "Package Size                      65612\n",
            "Year                              65612\n",
            "Quarter                           65612\n",
            "Product Name                      65612\n",
            "Units Reimbursed                  32261\n",
            "Suppression Used                  65612\n",
            "Number of Prescriptions           32261\n",
            "Total Amount Reimbursed           32261\n",
            "Medicaid Amount Reimbursed        32261\n",
            "Non Medicaid Amount Reimbursed    32261\n",
            "Quarter Begin                     65612\n",
            "Quarter Begin Date                65612\n",
            "Latitude                          61053\n",
            "Longitude                         61053\n",
            "Location                          65612\n",
            "NDC                               65612\n",
            "date_dt                           65612\n",
            "months                            65612\n",
            "dtype: int64\n"
          ],
          "name": "stdout"
        }
      ]
    },
    {
      "cell_type": "code",
      "metadata": {
        "id": "vRdr-C0TEeaQ",
        "outputId": "10b6f354-7b27-417e-8920-c73ce89085bc",
        "colab": {
          "base_uri": "https://localhost:8080/",
          "height": 422
        }
      },
      "source": [
        "n_rows = concat_dfs.shape[0]\n",
        "n_missing = n_rows - concat_dfs.count()\n",
        "print(n_missing)"
      ],
      "execution_count": 78,
      "outputs": [
        {
          "output_type": "stream",
          "text": [
            "Utilization Type                      0\n",
            "State                                 0\n",
            "Labeler Code                          0\n",
            "Product Code                          0\n",
            "Package Size                          0\n",
            "Year                                  0\n",
            "Quarter                               0\n",
            "Product Name                          0\n",
            "Units Reimbursed                  33351\n",
            "Suppression Used                      0\n",
            "Number of Prescriptions           33351\n",
            "Total Amount Reimbursed           33351\n",
            "Medicaid Amount Reimbursed        33351\n",
            "Non Medicaid Amount Reimbursed    33351\n",
            "Quarter Begin                         0\n",
            "Quarter Begin Date                    0\n",
            "Latitude                           4559\n",
            "Longitude                          4559\n",
            "Location                              0\n",
            "NDC                                   0\n",
            "date_dt                               0\n",
            "months                                0\n",
            "dtype: int64\n"
          ],
          "name": "stdout"
        }
      ]
    },
    {
      "cell_type": "markdown",
      "metadata": {
        "id": "XMH6XbepE08i"
      },
      "source": [
        "We see the missing values in above table."
      ]
    },
    {
      "cell_type": "markdown",
      "metadata": {
        "id": "utxZnrELFAvp"
      },
      "source": [
        "##Taking care of missing values."
      ]
    },
    {
      "cell_type": "code",
      "metadata": {
        "id": "KISLB8qWvrqQ"
      },
      "source": [
        "concat_df_interpolate = concat_dfs.interpolate()"
      ],
      "execution_count": 68,
      "outputs": []
    },
    {
      "cell_type": "code",
      "metadata": {
        "id": "G1nf3NnCz4BY",
        "outputId": "adde0538-760e-4e7f-f210-d26f06bf5028",
        "colab": {
          "base_uri": "https://localhost:8080/",
          "height": 527
        }
      },
      "source": [
        "concat_df_interpolate.info() "
      ],
      "execution_count": 69,
      "outputs": [
        {
          "output_type": "stream",
          "text": [
            "<class 'pandas.core.frame.DataFrame'>\n",
            "RangeIndex: 65612 entries, 0 to 65611\n",
            "Data columns (total 22 columns):\n",
            " #   Column                          Non-Null Count  Dtype  \n",
            "---  ------                          --------------  -----  \n",
            " 0   Utilization Type                65612 non-null  object \n",
            " 1   State                           65612 non-null  object \n",
            " 2   Labeler Code                    65612 non-null  int64  \n",
            " 3   Product Code                    65612 non-null  int64  \n",
            " 4   Package Size                    65612 non-null  int64  \n",
            " 5   Year                            65612 non-null  int64  \n",
            " 6   Quarter                         65612 non-null  int64  \n",
            " 7   Product Name                    65599 non-null  object \n",
            " 8   Units Reimbursed                65612 non-null  float64\n",
            " 9   Suppression Used                65612 non-null  bool   \n",
            " 10  Number of Prescriptions         65612 non-null  float64\n",
            " 11  Total Amount Reimbursed         65612 non-null  float64\n",
            " 12  Medicaid Amount Reimbursed      65612 non-null  float64\n",
            " 13  Non Medicaid Amount Reimbursed  65612 non-null  float64\n",
            " 14  Quarter Begin                   65612 non-null  object \n",
            " 15  Quarter Begin Date              65612 non-null  object \n",
            " 16  Latitude                        65611 non-null  float64\n",
            " 17  Longitude                       65611 non-null  float64\n",
            " 18  Location                        61053 non-null  object \n",
            " 19  NDC                             65612 non-null  int64  \n",
            " 20  date_dt                         65612 non-null  object \n",
            " 21  months                          65612 non-null  float64\n",
            "dtypes: bool(1), float64(8), int64(6), object(7)\n",
            "memory usage: 10.6+ MB\n"
          ],
          "name": "stdout"
        }
      ]
    },
    {
      "cell_type": "markdown",
      "metadata": {
        "id": "4nBEn1nw0WaH"
      },
      "source": [
        "From the above information, we still see missing values in columns 'Product Name', 'latitude', 'longitude', and 'location'."
      ]
    },
    {
      "cell_type": "code",
      "metadata": {
        "id": "GCP68KS3EEfd",
        "outputId": "c8fcc4f6-5b4a-495f-d259-5fe6e06e1df8",
        "colab": {
          "base_uri": "https://localhost:8080/",
          "height": 422
        }
      },
      "source": [
        "print(concat_df_interpolate.count())"
      ],
      "execution_count": 75,
      "outputs": [
        {
          "output_type": "stream",
          "text": [
            "Utilization Type                  65612\n",
            "State                             65612\n",
            "Labeler Code                      65612\n",
            "Product Code                      65612\n",
            "Package Size                      65612\n",
            "Year                              65612\n",
            "Quarter                           65612\n",
            "Product Name                      65612\n",
            "Units Reimbursed                  65612\n",
            "Suppression Used                  65612\n",
            "Number of Prescriptions           65612\n",
            "Total Amount Reimbursed           65612\n",
            "Medicaid Amount Reimbursed        65612\n",
            "Non Medicaid Amount Reimbursed    65612\n",
            "Quarter Begin                     65612\n",
            "Quarter Begin Date                65612\n",
            "Latitude                          65612\n",
            "Longitude                         65612\n",
            "Location                          65612\n",
            "NDC                               65612\n",
            "date_dt                           65612\n",
            "months                            65612\n",
            "dtype: int64\n"
          ],
          "name": "stdout"
        }
      ]
    },
    {
      "cell_type": "code",
      "metadata": {
        "id": "3vpOi4X5EFQe"
      },
      "source": [
        ""
      ],
      "execution_count": null,
      "outputs": []
    },
    {
      "cell_type": "code",
      "metadata": {
        "id": "5xRLedh51jEW"
      },
      "source": [
        "concat_df_interpolate[\"Location\"].fillna(\"(0.00, 0.00)\", inplace=True)\n",
        "concat_df_interpolate[\"Latitude\"].fillna(0, inplace=True)\n",
        "concat_df_interpolate[\"Longitude\"].fillna(0, inplace=True)\n",
        "concat_df_interpolate[\"Product Name\"].fillna(\"No product name\", inplace=True)"
      ],
      "execution_count": 70,
      "outputs": []
    },
    {
      "cell_type": "code",
      "metadata": {
        "id": "smTo4wW62tH-",
        "outputId": "95c6a695-ab29-4bf8-9c62-99471a8d5148",
        "colab": {
          "base_uri": "https://localhost:8080/",
          "height": 527
        }
      },
      "source": [
        "concat_df_interpolate.info()"
      ],
      "execution_count": 71,
      "outputs": [
        {
          "output_type": "stream",
          "text": [
            "<class 'pandas.core.frame.DataFrame'>\n",
            "RangeIndex: 65612 entries, 0 to 65611\n",
            "Data columns (total 22 columns):\n",
            " #   Column                          Non-Null Count  Dtype  \n",
            "---  ------                          --------------  -----  \n",
            " 0   Utilization Type                65612 non-null  object \n",
            " 1   State                           65612 non-null  object \n",
            " 2   Labeler Code                    65612 non-null  int64  \n",
            " 3   Product Code                    65612 non-null  int64  \n",
            " 4   Package Size                    65612 non-null  int64  \n",
            " 5   Year                            65612 non-null  int64  \n",
            " 6   Quarter                         65612 non-null  int64  \n",
            " 7   Product Name                    65612 non-null  object \n",
            " 8   Units Reimbursed                65612 non-null  float64\n",
            " 9   Suppression Used                65612 non-null  bool   \n",
            " 10  Number of Prescriptions         65612 non-null  float64\n",
            " 11  Total Amount Reimbursed         65612 non-null  float64\n",
            " 12  Medicaid Amount Reimbursed      65612 non-null  float64\n",
            " 13  Non Medicaid Amount Reimbursed  65612 non-null  float64\n",
            " 14  Quarter Begin                   65612 non-null  object \n",
            " 15  Quarter Begin Date              65612 non-null  object \n",
            " 16  Latitude                        65612 non-null  float64\n",
            " 17  Longitude                       65612 non-null  float64\n",
            " 18  Location                        65612 non-null  object \n",
            " 19  NDC                             65612 non-null  int64  \n",
            " 20  date_dt                         65612 non-null  object \n",
            " 21  months                          65612 non-null  float64\n",
            "dtypes: bool(1), float64(8), int64(6), object(7)\n",
            "memory usage: 10.6+ MB\n"
          ],
          "name": "stdout"
        }
      ]
    },
    {
      "cell_type": "markdown",
      "metadata": {
        "id": "T-WwXNyZ3EXF"
      },
      "source": [
        "From above dataframe information, we see that the dataframe is clean with no missing values."
      ]
    }
  ]
}